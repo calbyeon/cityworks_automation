{
 "cells": [
  {
   "cell_type": "code",
   "execution_count": 12,
   "id": "d09a458a-b380-4385-8d84-6b37cbd57b3b",
   "metadata": {},
   "outputs": [
    {
     "name": "stdout",
     "output_type": "stream",
     "text": [
      "Select the first CSV file you would like to compare.\n",
      "Select the second CSV file you would like to compare.\n",
      "Columns in first file:\n",
      "0. Project Name\n",
      "1. Final C3 Date\n"
     ]
    },
    {
     "name": "stdin",
     "output_type": "stream",
     "text": [
      "Enter the index of the column containing the name or ID of the first file: \n",
      " 0\n"
     ]
    },
    {
     "name": "stdout",
     "output_type": "stream",
     "text": [
      "Columns in second file:\n",
      "0. Project Description\n",
      "1. Final C3 Construction\n"
     ]
    },
    {
     "name": "stdin",
     "output_type": "stream",
     "text": [
      "Enter the index of the column containing the name or ID of the second file: \n",
      " 0\n"
     ]
    },
    {
     "name": "stdout",
     "output_type": "stream",
     "text": [
      "Columns in first file:\n",
      "0. Project Name\n",
      "1. Final C3 Date\n"
     ]
    },
    {
     "name": "stdin",
     "output_type": "stream",
     "text": [
      "Enter the index of the date column in file 1 you would like to compare against file 2: \n",
      " 1\n"
     ]
    },
    {
     "name": "stdout",
     "output_type": "stream",
     "text": [
      "Columns in second file:\n",
      "0. Project Description\n",
      "1. Final C3 Construction\n"
     ]
    },
    {
     "name": "stdin",
     "output_type": "stream",
     "text": [
      "Enter the index of the date column in file 2 you would like to compare: \n",
      " 1\n"
     ]
    },
    {
     "name": "stdout",
     "output_type": "stream",
     "text": [
      "Best match for row 0 in file1.csv:\n",
      "Name/ID: Big One\n",
      "Final C3 Date: 30-Jan-08\n",
      "Best match in file2.csv:\n",
      "Name/ID: Big One LLC\n",
      "Final C3 Construction: 30, January 2008\n",
      "Values of Final C3 Date and Final C3 Construction match.\n",
      "\n",
      "Best match for row 1 in file1.csv:\n",
      "Name/ID: Small guy / ross\n",
      "Final C3 Date: 24-Feb-18\n",
      "Best match in file2.csv:\n",
      "Name/ID: Ross\n",
      "Final C3 Construction: 24, march 1999\n",
      "Values of Final C3 Date and Final C3 Construction do not match.\n",
      "\n"
     ]
    },
    {
     "ename": "KeyboardInterrupt",
     "evalue": "Interrupted by user",
     "output_type": "error",
     "traceback": [
      "\u001b[1;31m---------------------------------------------------------------------------\u001b[0m",
      "\u001b[1;31mKeyboardInterrupt\u001b[0m                         Traceback (most recent call last)",
      "Cell \u001b[1;32mIn[14], line 93\u001b[0m\n\u001b[0;32m     91\u001b[0m \u001b[38;5;28;01melse\u001b[39;00m:\n\u001b[0;32m     92\u001b[0m     \u001b[38;5;28mprint\u001b[39m(\u001b[38;5;124m'\u001b[39m\u001b[38;5;124mValues of \u001b[39m\u001b[38;5;132;01m{}\u001b[39;00m\u001b[38;5;124m and \u001b[39m\u001b[38;5;132;01m{}\u001b[39;00m\u001b[38;5;124m do not match.\u001b[39m\u001b[38;5;130;01m\\n\u001b[39;00m\u001b[38;5;124m'\u001b[39m\u001b[38;5;241m.\u001b[39mformat(col3, col4))\n\u001b[1;32m---> 93\u001b[0m     new_date_str \u001b[38;5;241m=\u001b[39m \u001b[38;5;28;43minput\u001b[39;49m\u001b[43m(\u001b[49m\u001b[38;5;124;43m'\u001b[39;49m\u001b[38;5;124;43mEnter the correct date for \u001b[39;49m\u001b[38;5;132;43;01m{}\u001b[39;49;00m\u001b[38;5;124;43m in the format \u001b[39;49m\u001b[38;5;124;43m\"\u001b[39;49m\u001b[38;5;124;43mDD-Mon-YYYY\u001b[39;49m\u001b[38;5;124;43m\"\u001b[39;49m\u001b[38;5;124;43m: \u001b[39;49m\u001b[38;5;124;43m'\u001b[39;49m\u001b[38;5;241;43m.\u001b[39;49m\u001b[43mformat\u001b[49m\u001b[43m(\u001b[49m\u001b[43mcol1\u001b[49m\u001b[43m)\u001b[49m\u001b[43m)\u001b[49m\n\u001b[0;32m     95\u001b[0m     \u001b[38;5;66;03m# Convert the input to a datetime object\u001b[39;00m\n\u001b[0;32m     96\u001b[0m     new_date \u001b[38;5;241m=\u001b[39m parse(new_date_str)\n",
      "File \u001b[1;32m~\\miniconda3\\envs\\autogis\\lib\\site-packages\\ipykernel\\kernelbase.py:1191\u001b[0m, in \u001b[0;36mKernel.raw_input\u001b[1;34m(self, prompt)\u001b[0m\n\u001b[0;32m   1189\u001b[0m     msg \u001b[38;5;241m=\u001b[39m \u001b[38;5;124m\"\u001b[39m\u001b[38;5;124mraw_input was called, but this frontend does not support input requests.\u001b[39m\u001b[38;5;124m\"\u001b[39m\n\u001b[0;32m   1190\u001b[0m     \u001b[38;5;28;01mraise\u001b[39;00m StdinNotImplementedError(msg)\n\u001b[1;32m-> 1191\u001b[0m \u001b[38;5;28;01mreturn\u001b[39;00m \u001b[38;5;28;43mself\u001b[39;49m\u001b[38;5;241;43m.\u001b[39;49m\u001b[43m_input_request\u001b[49m\u001b[43m(\u001b[49m\n\u001b[0;32m   1192\u001b[0m \u001b[43m    \u001b[49m\u001b[38;5;28;43mstr\u001b[39;49m\u001b[43m(\u001b[49m\u001b[43mprompt\u001b[49m\u001b[43m)\u001b[49m\u001b[43m,\u001b[49m\n\u001b[0;32m   1193\u001b[0m \u001b[43m    \u001b[49m\u001b[38;5;28;43mself\u001b[39;49m\u001b[38;5;241;43m.\u001b[39;49m\u001b[43m_parent_ident\u001b[49m\u001b[43m[\u001b[49m\u001b[38;5;124;43m\"\u001b[39;49m\u001b[38;5;124;43mshell\u001b[39;49m\u001b[38;5;124;43m\"\u001b[39;49m\u001b[43m]\u001b[49m\u001b[43m,\u001b[49m\n\u001b[0;32m   1194\u001b[0m \u001b[43m    \u001b[49m\u001b[38;5;28;43mself\u001b[39;49m\u001b[38;5;241;43m.\u001b[39;49m\u001b[43mget_parent\u001b[49m\u001b[43m(\u001b[49m\u001b[38;5;124;43m\"\u001b[39;49m\u001b[38;5;124;43mshell\u001b[39;49m\u001b[38;5;124;43m\"\u001b[39;49m\u001b[43m)\u001b[49m\u001b[43m,\u001b[49m\n\u001b[0;32m   1195\u001b[0m \u001b[43m    \u001b[49m\u001b[43mpassword\u001b[49m\u001b[38;5;241;43m=\u001b[39;49m\u001b[38;5;28;43;01mFalse\u001b[39;49;00m\u001b[43m,\u001b[49m\n\u001b[0;32m   1196\u001b[0m \u001b[43m\u001b[49m\u001b[43m)\u001b[49m\n",
      "File \u001b[1;32m~\\miniconda3\\envs\\autogis\\lib\\site-packages\\ipykernel\\kernelbase.py:1234\u001b[0m, in \u001b[0;36mKernel._input_request\u001b[1;34m(self, prompt, ident, parent, password)\u001b[0m\n\u001b[0;32m   1231\u001b[0m \u001b[38;5;28;01mexcept\u001b[39;00m \u001b[38;5;167;01mKeyboardInterrupt\u001b[39;00m:\n\u001b[0;32m   1232\u001b[0m     \u001b[38;5;66;03m# re-raise KeyboardInterrupt, to truncate traceback\u001b[39;00m\n\u001b[0;32m   1233\u001b[0m     msg \u001b[38;5;241m=\u001b[39m \u001b[38;5;124m\"\u001b[39m\u001b[38;5;124mInterrupted by user\u001b[39m\u001b[38;5;124m\"\u001b[39m\n\u001b[1;32m-> 1234\u001b[0m     \u001b[38;5;28;01mraise\u001b[39;00m \u001b[38;5;167;01mKeyboardInterrupt\u001b[39;00m(msg) \u001b[38;5;28;01mfrom\u001b[39;00m \u001b[38;5;28mNone\u001b[39m\n\u001b[0;32m   1235\u001b[0m \u001b[38;5;28;01mexcept\u001b[39;00m \u001b[38;5;167;01mException\u001b[39;00m:\n\u001b[0;32m   1236\u001b[0m     \u001b[38;5;28mself\u001b[39m\u001b[38;5;241m.\u001b[39mlog\u001b[38;5;241m.\u001b[39mwarning(\u001b[38;5;124m\"\u001b[39m\u001b[38;5;124mInvalid Message:\u001b[39m\u001b[38;5;124m\"\u001b[39m, exc_info\u001b[38;5;241m=\u001b[39m\u001b[38;5;28;01mTrue\u001b[39;00m)\n",
      "\u001b[1;31mKeyboardInterrupt\u001b[0m: Interrupted by user"
     ]
    }
   ],
   "source": [
    "import pandas as pd\n",
    "import numpy as np\n",
    "from fuzzywuzzy import fuzz\n",
    "from dateutil.parser import parse\n",
    "import tkinter as tk\n",
    "from tkinter import filedialog, Tk, StringVar, Label, OptionMenu\n",
    "\n",
    "def load_files():\n",
    "    \"\"\" Load Files and Data based on User Input \"\"\"\n",
    "    \n",
    "    # Create a Tkinter root window\n",
    "    root = tk.Tk()\n",
    "    root.withdraw()\n",
    "\n",
    "    print(\"Select the first CSV file you would like to compare.\")\n",
    "    file1 = filedialog.askopenfilename(title=\"Select CSV file 1\", filetypes=[(\"CSV Files\", \"*.csv\")])\n",
    "    print(\"Select the second CSV file you would like to compare.\")\n",
    "    file2 = filedialog.askopenfilename(title=\"Select CSV file 2\", filetypes=[(\"CSV Files\", \"*.csv\")])\n",
    "    df1 = pd.read_csv(file1)\n",
    "    df2 = pd.read_csv(file2)\n",
    "    \n",
    "    # Count occurrences of 'unnamed' in the headers of df1 and df2\n",
    "    count_df1 = sum('unnamed' in col.lower() for col in df1.columns)\n",
    "    count_df2 = sum('unnamed' in col.lower() for col in df2.columns)\n",
    "    \n",
    "    # Change header if multiple columns are unnamed\n",
    "    if count_df1 >= 2:\n",
    "        df1 = pd.read_csv(file1, header = 1)\n",
    "\n",
    "    if count_df2 >= 2:\n",
    "        df2 = pd.read_csv(file2, header = 1)\n",
    "    \n",
    "    # Drop columns with 'unnamed' in their names\n",
    "    df1 = df1.loc[:, ~df1.columns.str.contains('unnamed', case=False)]\n",
    "    df2 = df2.loc[:, ~df2.columns.str.contains('unnamed', case=False)]\n",
    "    \n",
    "    # Retrieve columns and send to list variables\n",
    "    file1_columns = df1.columns.tolist()\n",
    "    file2_columns = df2.columns.tolist()\n",
    "    \n",
    "    # Print the columns of each file for the user to see\n",
    "    print(\"Columns in first file:\")\n",
    "    for i, col in enumerate(file1_columns):\n",
    "        print(f\"{i}. {col}\")\n",
    "    col1 = int(input(\"Enter the index of the column containing the name or ID of the first file: \"))\n",
    "    \n",
    "    print(\"Columns in second file:\")\n",
    "    for i, col in enumerate(file2_columns):\n",
    "        print(f\"{i}. {col}\")\n",
    "    col2 = int(input(\"Enter the index of the column containing the name or ID of the second file: \"))\n",
    "    \n",
    "    print(\"Columns in first file:\")\n",
    "    for i, col in enumerate(file1_columns):\n",
    "        print(f\"{i}. {col}\")\n",
    "    col3 = int(input(\"Enter the index of the date column in file 1 you would like to compare against file 2: \"))\n",
    "    \n",
    "    print(\"Columns in second file:\")\n",
    "    for i, col in enumerate(file2_columns):\n",
    "        print(f\"{i}. {col}\")\n",
    "    col4 = int(input(\"Enter the index of the date column in file 2 you would like to compare: \"))\n",
    "    \n",
    "    # Clean possible date value errors\n",
    "    df1[df1.columns[col3]].replace(\"Construction\", \"01/01/1899\", inplace=True)\n",
    "    df2[df2.columns[col4]].replace(\"Construction\", \"01/01/1899\", inplace=True)\n",
    "    df1[df1.columns[col3]].fillna(\"01/01/1899\", inplace=True)\n",
    "    df2[df2.columns[col4]].fillna(\"01/01/1899\", inplace=True)\n",
    "    \n",
    "    df1[df1.columns[col1]].astype('str')\n",
    "    df2[df2.columns[col2]].astype('str')\n",
    "\n",
    "    # Check that the indices are valid\n",
    "    while True:\n",
    "        try:\n",
    "            df1[df1.columns[col3]].astype('str').apply(parse)\n",
    "            df2[df2.columns[col4]].astype('str').apply(parse)\n",
    "            break\n",
    "             \n",
    "        except IndexError:\n",
    "            print(\"The index you entered is invalid. Please enter a valid index.\")\n",
    "            col1 = int(input(\"Enter the index of the column containing the name or ID of the first file: \"))\n",
    "            col2 = int(input(\"Enter the index of the column containing the name or ID of the second file: \"))\n",
    "            col3 = int(input(\"Enter the index of the date column in file 1 you would like to compare against file 2: \"))\n",
    "            col4 = int(input(\"Enter the index of the date column in file 2 you would like to compare: \"))\n",
    "    \n",
    "    return df1, df2, file1_columns[col1], file2_columns[col2], file1_columns[col3], file2_columns[col4]\n",
    "\n",
    "df1, df2, col1, col2, col3, col4 = load_files()\n",
    "\n",
    "\n",
    "\n",
    "# Find the best match between the two rows\n",
    "for index1, row1 in df1.iterrows():\n",
    "    best_match_score = 0\n",
    "    best_match_row = None\n",
    "\n",
    "    # Find the best match with any row in df2\n",
    "    for index2, row2 in df2.iterrows():\n",
    "        score = fuzz.ratio(str(row1[col1]), str(row2[col2]))\n",
    "        if score > best_match_score:\n",
    "            best_match_score = score\n",
    "            best_match_row = row2\n",
    "\n",
    "    # Print out the contents of the best match\n",
    "    if best_match_score > 0:\n",
    "        print('Best match for row {} in file1.csv:'.format(index1))\n",
    "        print('Name/ID: ' + str(row1[col1]))\n",
    "        print(str(col3) + ':', str(row1[col3]))\n",
    "        print('Best match in file2.csv:')\n",
    "        print('Name/ID: ' + str(best_match_row[col2]))\n",
    "        print(str(col4) + ':', str(best_match_row[col4]))\n",
    "        accept = input('Do you want to accept this match? Enter Y for Yes, N for No: ')\n",
    "        if accept.lower() == 'y':\n",
    "            if parse(row1[col3]) == parse(best_match_row[col4]):\n",
    "                print('Values of {} and {} match.\\n'.format(col3, col4))\n",
    "            else:\n",
    "                print('Values of {} and {} do not match.\\n'.format(col3, col4))\n",
    "                while True:\n",
    "                    new_date_str = input('Enter the correct date for {} in the format: '.format(row1[col1]))\n",
    "\n",
    "                    print(new_date_str)\n",
    "                    # Convert the input to a datetime object\n",
    "                    new_date = parse(new_date_str, fuzzy=True)\n",
    "\n",
    "                    # Update the dates in both sheets\n",
    "                    df1.at[index1, col3] = new_date.strftime('%d-%b-%Y')\n",
    "                    df2.at[best_match_row.name, col4] = new_date.strftime('%d-%b-%Y')\n",
    "                    print('{} updated to: {}'.format(col3, new_date))\n",
    "\n",
    "                    if parse(df1.at[index1, col3]) == parse(df2.at[best_match_row.name, col4]):\n",
    "                        print('Values updated. Values of {} and {} now match.\\n'.format(col1, col2))\n",
    "                        break\n",
    "                    else:\n",
    "                        print('Values still do not match. Please try again.')\n",
    "        elif accept.lower() == 'n':\n",
    "            print('Match rejected.\\n')\n",
    "            continue\n",
    "        else:\n",
    "            print('Invalid input. Please enter Y or N.\\n')\n",
    "    else: \n",
    "        print('No match found for row {} in file1.csv.'.format(index1))    \n",
    "df1.to_csv('ExampleC3_updated.csv', index=False)\n",
    "df2.to_csv('ExampleC3_AGOL_updated.csv', index=False)"
   ]
  },
  {
   "cell_type": "code",
   "execution_count": null,
   "id": "b313af71-58c4-4bd9-b5a8-02ca8c093990",
   "metadata": {},
   "outputs": [],
   "source": []
  }
 ],
 "metadata": {
  "kernelspec": {
   "display_name": "Python 3 (ipykernel)",
   "language": "python",
   "name": "python3"
  },
  "language_info": {
   "codemirror_mode": {
    "name": "ipython",
    "version": 3
   },
   "file_extension": ".py",
   "mimetype": "text/x-python",
   "name": "python",
   "nbconvert_exporter": "python",
   "pygments_lexer": "ipython3",
   "version": "3.10.9"
  }
 },
 "nbformat": 4,
 "nbformat_minor": 5
}
