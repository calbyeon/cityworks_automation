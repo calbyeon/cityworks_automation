{
 "cells": [
  {
   "cell_type": "code",
   "execution_count": 30,
   "id": "d09a458a-b380-4385-8d84-6b37cbd57b3b",
   "metadata": {},
   "outputs": [
    {
     "name": "stdout",
     "output_type": "stream",
     "text": [
      "Best match for row 0 in file1.csv:\n",
      "Project Name: Big One\n",
      "Final C3 Date: 30-Jan-08\n",
      "Best match in file2.csv:\n",
      "Project Description: Big One LLC\n",
      "Final C3 Construction: 30, January 2008\n",
      "Values of Final C3 Date and Final C3 Construction match.\n",
      "\n",
      "Best match for row 1 in file1.csv:\n",
      "Project Name: Small guy / ross\n",
      "Final C3 Date: 24-Feb-18\n",
      "Best match in file2.csv:\n",
      "Project Description: Ross\n",
      "Final C3 Construction: 24, march 1999\n",
      "Values of Final C3 Date and Final C3 Construction do not match.\n",
      "\n"
     ]
    },
    {
     "name": "stdin",
     "output_type": "stream",
     "text": [
      "Enter the correct date in the format \"DD-Mon-YYYY\":  24-Feb-18\n"
     ]
    },
    {
     "name": "stdout",
     "output_type": "stream",
     "text": [
      "Dates updated to: 24-Feb-18\n",
      "Values updated. Values of Final C3 Date and Final C3 Construction now match.\n",
      "\n",
      "Best match for row 2 in file1.csv:\n",
      "Project Name: 1874 budda hand\n",
      "Final C3 Date: 17, January 1999\n",
      "Best match in file2.csv:\n",
      "Project Description: 1874 budda hand St\n",
      "Final C3 Construction: 17, January 1999\n",
      "Values of Final C3 Date and Final C3 Construction match.\n",
      "\n"
     ]
    }
   ],
   "source": [
    "import pandas as pd\n",
    "from fuzzywuzzy import fuzz\n",
    "from dateutil.parser import parse\n",
    "\n",
    "# Load the two CSV files into dataframes\n",
    "df1 = pd.read_csv('ExampleC3.csv')\n",
    "df2 = pd.read_csv('ExampleC3_AGOL.csv')\n",
    "\n",
    "# Find the best match between the two rows\n",
    "for index1, row1 in df1.iterrows():\n",
    "    best_match_score = 0\n",
    "    best_match_row = None\n",
    "\n",
    "    # Find the best match with any row in df2\n",
    "    for index2, row2 in df2.iterrows():\n",
    "        score = fuzz.ratio(str(row1), str(row2))\n",
    "        if score > best_match_score:\n",
    "            best_match_score = score\n",
    "            best_match_row = row2\n",
    "\n",
    "    # Print out the contents of the best match\n",
    "    if best_match_score > 0:\n",
    "        print('Best match for row {} in file1.csv:'.format(index1))\n",
    "        print('Project Name:', row1['Project Name'])\n",
    "        print('Final C3 Date:', row1['Final C3 Date'])\n",
    "        print('Best match in file2.csv:')\n",
    "        print('Project Description:', best_match_row['Project Description'])\n",
    "        print('Final C3 Construction:', best_match_row['Final C3 Construction'])\n",
    "        if parse(row1['Final C3 Date']) == parse(best_match_row['Final C3 Construction']):\n",
    "            print('Values of Final C3 Date and Final C3 Construction match.\\n')\n",
    "        else:\n",
    "            print('Values of Final C3 Date and Final C3 Construction do not match.\\n')\n",
    "            new_date_str = input('Enter the correct date in the format \"DD-Mon-YYYY\": ')\n",
    "\n",
    "            # Convert the input to a datetime object\n",
    "            new_date = parse(new_date_str)\n",
    "\n",
    "            # Update the dates in both sheets\n",
    "            df1.at[index1, 'Final C3 Date'] = new_date.strftime('%d-%b-%Y')\n",
    "            df2.at[best_match_row.name, 'Final C3 Construction'] = new_date.strftime('%d-%b-%Y')\n",
    "            print('Dates updated to: {}'.format(new_date_str))\n",
    "            \n",
    "            if parse(row1['Final C3 Date']) == parse(best_match_row['Final C3 Construction']):\n",
    "                print('Values updated. Values of Final C3 Date and Final C3 Construction now match.\\n')\n",
    "            else:\n",
    "                print('Values still do not match')\n",
    "                break\n",
    "    else:\n",
    "        print('No match found for row {} in file1.csv.'.format(index1))\n",
    "        \n",
    "df1.to_csv('ExampleC3_updated.csv', index=False)\n",
    "df2.to_csv('ExampleC3_AGOL_updated.csv', index=False)"
   ]
  },
  {
   "cell_type": "code",
   "execution_count": null,
   "id": "b313af71-58c4-4bd9-b5a8-02ca8c093990",
   "metadata": {},
   "outputs": [],
   "source": []
  }
 ],
 "metadata": {
  "kernelspec": {
   "display_name": "Python 3 (ipykernel)",
   "language": "python",
   "name": "python3"
  },
  "language_info": {
   "codemirror_mode": {
    "name": "ipython",
    "version": 3
   },
   "file_extension": ".py",
   "mimetype": "text/x-python",
   "name": "python",
   "nbconvert_exporter": "python",
   "pygments_lexer": "ipython3",
   "version": "3.10.9"
  }
 },
 "nbformat": 4,
 "nbformat_minor": 5
}
