{
 "cells": [
  {
   "cell_type": "code",
   "execution_count": null,
   "id": "d09a458a-b380-4385-8d84-6b37cbd57b3b",
   "metadata": {},
   "outputs": [
    {
     "name": "stdout",
     "output_type": "stream",
     "text": [
      "Select the first CSV file you would like to compare.\n",
      "Select the second CSV file you would like to compare.\n"
     ]
    },
    {
     "name": "stdin",
     "output_type": "stream",
     "text": [
      "Enter the column in file 1 you would like to compare:  e\n",
      "Enter the column in file 2 you would like to compare:  e\n"
     ]
    },
    {
     "name": "stdout",
     "output_type": "stream",
     "text": [
      "The column you entered does not exist in one or both files. Please enter columns that exist in both files.\n"
     ]
    },
    {
     "name": "stdin",
     "output_type": "stream",
     "text": [
      "Enter the column in file 1 you would like to compare:  Final C3 Date\n",
      "Enter the column in file 2 you would like to compare:  Project Description\n"
     ]
    },
    {
     "name": "stdout",
     "output_type": "stream",
     "text": [
      "The columns you entered do not contain dates. Please enter columns that contain dates.\n"
     ]
    }
   ],
   "source": [
    "import pandas as pd\n",
    "from fuzzywuzzy import fuzz\n",
    "from dateutil.parser import parse\n",
    "import tkinter as tk\n",
    "from tkinter import filedialog\n",
    "\n",
    "# Create a Tkinter root window\n",
    "root = tk.Tk()\n",
    "root.withdraw()\n",
    "\n",
    "# Load the two CSV files into dataframes\n",
    "def load_files():\n",
    "    print(\"Select the first CSV file you would like to compare.\")\n",
    "    file1 = filedialog.askopenfilename(title=\"Select CSV file 1\", filetypes=[(\"CSV Files\", \"*.csv\")])\n",
    "    print(\"Select the second CSV file you would like to compare.\")\n",
    "    file2 = filedialog.askopenfilename(title=\"Select CSV file 2\", filetypes=[(\"CSV Files\", \"*.csv\")])\n",
    "    df1 = pd.read_csv(file1)\n",
    "    df2 = pd.read_csv(file2)\n",
    "    \n",
    "    # Retrieve columns and send to list variables\n",
    "    file1_columns = df1.columns.tolist()\n",
    "    file2_columns = df2.columns.tolist()\n",
    "    \n",
    "    # Get columns that contain name of project, or other ID to fuzzymatch from\n",
    "    col1 = input(\"Select/Enter the column containing the name or ID of the first file: \")\n",
    "    col2 = input(\"Select/Enter the column containing the name or ID of the second file: \")\n",
    "    \n",
    "    # Get columns to compare\n",
    "    col3 = input(\"Enter the column in file 1 you would like to compare: \")\n",
    "    col4 = input(\"Enter the column in file 2 you would like to compare: \")\n",
    "    \n",
    "    \n",
    "\n",
    "    # Request user input for the columns to compare\n",
    "    while True:\n",
    "        try:\n",
    "            parse(df1[col3].iloc[0])\n",
    "            parse(df2[col4].iloc[0])\n",
    "            col1\n",
    "            col2\n",
    "            break\n",
    "        except ValueError:\n",
    "            print(\"The columns you entered do not contain dates. Please enter columns that contain dates.\")\n",
    "            col3 = input(\"Enter the column in file 1 you would like to compare: \")\n",
    "            col4 = input(\"Enter the column in file 2 you would like to compare: \")\n",
    "            \n",
    "        except KeyError:\n",
    "            print(\"The column you entered does not exist in one or both files. Please enter columns that exist in both files.\")\n",
    "            col3 = input(\"Enter the column in file 1 you would like to compare: \")\n",
    "            col4 = input(\"Enter the column in file 2 you would like to compare: \")\n",
    "    \n",
    "    return df1, df2, col1, col2, col3, col4\n",
    "\n",
    "df1, df2, col1, col2, col3, col4 = load_files()\n",
    "\n",
    "# Find the best match between the two rows\n",
    "for index1, row1 in df1.iterrows():\n",
    "    best_match_score = 0\n",
    "    best_match_row = None\n",
    "\n",
    "    # Find the best match with any row in df2\n",
    "    for index2, row2 in df2.iterrows():\n",
    "        score = fuzz.ratio(str(row1[col1]), str(row2[col2]))\n",
    "        if score > best_match_score:\n",
    "            best_match_score = score\n",
    "            best_match_row = row2\n",
    "\n",
    "    # Print out the contents of the best match\n",
    "    if best_match_score > 0:\n",
    "        print('Best match for row {} in file1.csv:'.format(index1))\n",
    "        print('Name/ID: ' + row1[col1])\n",
    "        print(col3 + ':', row1[col3])\n",
    "        print('Best match in file2.csv:')\n",
    "        print('Name/ID: ' + best_match_row[col2])\n",
    "        print(col4 + ':', best_match_row[col4])\n",
    "        if parse(row1[col3]) == parse(best_match_row[col4]):\n",
    "            print('Values of {} and {} match.\\n'.format(col3, col4))\n",
    "        else:\n",
    "            print('Values of {} and {} do not match.\\n'.format(col3, col4))\n",
    "            new_date_str = input('Enter the correct date for {} in the format \"DD-Mon-YYYY\": '.format(col1))\n",
    "\n",
    "            # Convert the input to a datetime object\n",
    "            new_date = parse(new_date_str)\n",
    "\n",
    "            # Update the dates in both sheets\n",
    "            df1.at[index1, col3] = new_date.strftime('%d-%b-%Y')\n",
    "            df2.at[best_match_row.name, col4] = new_date.strftime('%d-%b-%Y')\n",
    "            print('{} updated to: {}'.format(col3, new_date_str))\n",
    "            \n",
    "            if parse(row1[col3]) == parse(best_match_row[col4]):\n",
    "                print('Values updated. Values of {} and {} now match.\\n'.format(col1, col2))\n",
    "            else:\n",
    "                print('Values still do not match')\n",
    "                break\n",
    "    else:\n",
    "        print('No match found for row {} in file1.csv.'.format(index1))\n",
    "        \n",
    "df1.to_csv('ExampleC3_updated.csv', index=False)\n",
    "df2.to_csv('ExampleC3_AGOL_updated.csv', index=False)"
   ]
  },
  {
   "cell_type": "code",
   "execution_count": null,
   "id": "b313af71-58c4-4bd9-b5a8-02ca8c093990",
   "metadata": {},
   "outputs": [],
   "source": []
  }
 ],
 "metadata": {
  "kernelspec": {
   "display_name": "Python 3 (ipykernel)",
   "language": "python",
   "name": "python3"
  },
  "language_info": {
   "codemirror_mode": {
    "name": "ipython",
    "version": 3
   },
   "file_extension": ".py",
   "mimetype": "text/x-python",
   "name": "python",
   "nbconvert_exporter": "python",
   "pygments_lexer": "ipython3",
   "version": "3.10.9"
  }
 },
 "nbformat": 4,
 "nbformat_minor": 5
}
